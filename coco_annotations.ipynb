{
 "cells": [
  {
   "metadata": {
    "ExecuteTime": {
     "end_time": "2025-01-27T22:57:49.419520Z",
     "start_time": "2025-01-27T22:57:49.276857Z"
    }
   },
   "cell_type": "code",
   "source": [
    "import json\n",
    "import cv2\n",
    "import os"
   ],
   "id": "c9858e3f69b19d35",
   "outputs": [],
   "execution_count": 1
  },
  {
   "metadata": {
    "ExecuteTime": {
     "end_time": "2025-01-27T22:58:17.388016Z",
     "start_time": "2025-01-27T22:57:49.419520Z"
    }
   },
   "cell_type": "code",
   "source": [
    "# creating annotations\n",
    "annotations = []\n",
    "images = []\n",
    "categories = [{\"id\": 1, \"name\": \"barnacle\"}]\n",
    "\n",
    "# iterating through all the images and masks to create annotations\n",
    "for idx, img_path in enumerate(os.listdir(\"barnacle_dataset/train/images\")):\n",
    "    # Add image entry\n",
    "    img = cv2.imread(f\"barnacle_dataset/train/images/{img_path}\")\n",
    "    if img is None:\n",
    "        print(f\"Warning: Unable to read image file {img_path}\")\n",
    "        continue\n",
    "\n",
    "    images.append({\n",
    "        \"id\": idx,\n",
    "        \"file_name\": img_path,\n",
    "        \"width\": img.shape[1],\n",
    "        \"height\": img.shape[0],\n",
    "    })\n",
    "\n",
    "    # Construct mask file path\n",
    "    mask_path = f\"barnacle_dataset/train/masks/mask_{img_path}\"\n",
    "    if not os.path.exists(mask_path):\n",
    "        print(f\"Warning: Mask file {mask_path} does not exist\")\n",
    "        continue\n",
    "\n",
    "    # Convert mask to polygons\n",
    "    mask = cv2.imread(mask_path, cv2.IMREAD_GRAYSCALE)\n",
    "    if mask is None:\n",
    "        print(f\"Warning: Unable to read mask file {mask_path}\")\n",
    "        continue\n",
    "\n",
    "    contours, _ = cv2.findContours(mask, cv2.RETR_EXTERNAL, cv2.CHAIN_APPROX_SIMPLE)\n",
    "\n",
    "    for cnt in contours:\n",
    "        annotations.append({\n",
    "            \"id\": len(annotations),\n",
    "            \"image_id\": idx,\n",
    "            \"category_id\": 1,\n",
    "            \"segmentation\": [cnt.flatten().tolist()],\n",
    "            \"bbox\": cv2.boundingRect(cnt),\n",
    "            \"area\": cv2.contourArea(cnt),\n",
    "            \"iscrowd\": 0,\n",
    "        })"
   ],
   "id": "c42dd08c014a944d",
   "outputs": [],
   "execution_count": 2
  },
  {
   "metadata": {
    "ExecuteTime": {
     "end_time": "2025-01-27T22:58:52.845875Z",
     "start_time": "2025-01-27T22:58:17.959126Z"
    }
   },
   "cell_type": "code",
   "source": [
    "# Save annotations\n",
    "with open(\"barnacle_dataset/annotations/train.json\", \"w\") as f:\n",
    "    json.dump({\"images\": images, \"annotations\": annotations, \"categories\": categories}, f)"
   ],
   "id": "dcdc8f2ec7c3e75",
   "outputs": [],
   "execution_count": 3
  }
 ],
 "metadata": {
  "kernelspec": {
   "display_name": "Python 3",
   "language": "python",
   "name": "python3"
  },
  "language_info": {
   "codemirror_mode": {
    "name": "ipython",
    "version": 2
   },
   "file_extension": ".py",
   "mimetype": "text/x-python",
   "name": "python",
   "nbconvert_exporter": "python",
   "pygments_lexer": "ipython2",
   "version": "2.7.6"
  }
 },
 "nbformat": 4,
 "nbformat_minor": 5
}
