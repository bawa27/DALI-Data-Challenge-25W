{
 "cells": [
  {
   "cell_type": "code",
   "id": "initial_id",
   "metadata": {
    "collapsed": true,
    "ExecuteTime": {
     "end_time": "2025-01-27T22:57:16.824818Z",
     "start_time": "2025-01-27T22:57:10.957254Z"
    }
   },
   "source": [
    "import albumentations as A\n",
    "import cv2\n",
    "import numpy as np\n",
    "import matplotlib.pyplot as plt"
   ],
   "outputs": [],
   "execution_count": 2
  },
  {
   "metadata": {
    "ExecuteTime": {
     "end_time": "2025-01-27T22:57:16.836406Z",
     "start_time": "2025-01-27T22:57:16.827984Z"
    }
   },
   "cell_type": "code",
   "source": [
    "# Defining augmentations\n",
    "augment = A.Compose([\n",
    "    A.Rotate(limit=180, p=0.8),\n",
    "    A.HorizontalFlip(p=0.5),\n",
    "    A.VerticalFlip(p=0.5),\n",
    "    A.RandomBrightnessContrast(p=0.5),\n",
    "    A.GaussianBlur(p=0.3),\n",
    "    A.RandomCrop(height=800, width=800, p=0.5),\n",
    "    A.RandomScale(scale_limit = 0.1, p=0.5),\n",
    "], additional_targets={'mask': 'mask'})\n"
   ],
   "id": "f1466bf2d5958d98",
   "outputs": [],
   "execution_count": 3
  },
  {
   "metadata": {
    "ExecuteTime": {
     "end_time": "2025-01-27T22:57:17.018854Z",
     "start_time": "2025-01-27T22:57:16.857701Z"
    }
   },
   "cell_type": "code",
   "source": [
    "# Load image and mask\n",
    "roi1 = cv2.imread('barnacle_dataset/train/images/roi_img1.png')\n",
    "roi1 = cv2.cvtColor(roi1, cv2.COLOR_BGR2RGB)\n",
    "roi2 = cv2.imread('barnacle_dataset/train/images/roi_img2.png')\n",
    "roi2 = cv2.cvtColor(roi2, cv2.COLOR_BGR2RGB)\n",
    "\n",
    "mask1 = cv2.imread('barnacle_dataset/train/masks/mask_roi_img1.png', cv2.IMREAD_GRAYSCALE)\n",
    "mask2 = cv2.imread('barnacle_dataset/train/masks/mask_roi_img2.png', cv2.IMREAD_GRAYSCALE)\n",
    "\n",
    "# displaying all the images\n",
    "plt.imshow(roi2)"
   ],
   "id": "9803d5a55a7c9f35",
   "outputs": [],
   "execution_count": 4
  },
  {
   "metadata": {
    "ExecuteTime": {
     "end_time": "2025-01-27T22:57:42.114691Z",
     "start_time": "2025-01-27T22:57:17.021871Z"
    }
   },
   "cell_type": "code",
   "source": [
    "# Generate augmented images\n",
    "for i in range(50):\n",
    "    augmented = augment(image=roi1, mask=mask1)\n",
    "    roi1_aug = augmented['image']\n",
    "    mask1_aug = augmented['mask']\n",
    "\n",
    "    augmented = augment(image=roi2, mask=mask2)\n",
    "    roi2_aug = augmented['image']\n",
    "    mask2_aug = augmented['mask']\n",
    "\n",
    "    # convert RGB to BGR so that the imwrite will save the image correctly\n",
    "    roi1_aug = cv2.cvtColor(roi1_aug, cv2.COLOR_RGB2BGR)\n",
    "    roi2_aug = cv2.cvtColor(roi2_aug, cv2.COLOR_RGB2BGR)\n",
    "\n",
    "    cv2.imwrite(f'barnacle_dataset/train/images/roi_img1_aug_{i}.png', roi1_aug)\n",
    "    cv2.imwrite(f'barnacle_dataset/train/images/roi_img2_aug_{i}.png', roi2_aug)\n",
    "    cv2.imwrite(f'barnacle_dataset/train/masks/mask_roi_img1_aug_{i}.png', mask1_aug)\n",
    "    cv2.imwrite(f'barnacle_dataset/train/masks/mask_roi_img2_aug_{i}.png', mask2_aug)"
   ],
   "id": "434b2855e67d008d",
   "outputs": [],
   "execution_count": 5
  }
 ],
 "metadata": {
  "kernelspec": {
   "display_name": "Python 3",
   "language": "python",
   "name": "python3"
  },
  "language_info": {
   "codemirror_mode": {
    "name": "ipython",
    "version": 2
   },
   "file_extension": ".py",
   "mimetype": "text/x-python",
   "name": "python",
   "nbconvert_exporter": "python",
   "pygments_lexer": "ipython2",
   "version": "2.7.6"
  }
 },
 "nbformat": 4,
 "nbformat_minor": 5
}
